{
  "nbformat": 4,
  "nbformat_minor": 0,
  "metadata": {
    "colab": {
      "provenance": []
    },
    "kernelspec": {
      "name": "python3",
      "display_name": "Python 3"
    },
    "language_info": {
      "name": "python"
    }
  },
  "cells": [
    {
      "cell_type": "markdown",
      "source": [
        "# Sentiment Analysis\n",
        "Analisis sentimen (juga dikenal sebagai opinion mining atau emotion AI) adalah penggunaan Natural language processing, analisis teks, linguistik komputasi, dan biometrik untuk mengidentifikasi, mengekstrak, mengukur, dan mempelajari keadaan afektif dan informasi subjektif secara sistematis.\n",
        "\n",
        "# Movie Review Dataset\n",
        "data yang digunakan memuat kumpulan data ulasan film IMDB dari keras. Dataset ini berisi 25.000 review dari IMDB yang masing-masing sudah diproses sebelumnya dan diberi label positif atau negatif. Setiap ulasan dikodekan dengan bilangan bulat yang mewakili seberapa umum suatu kata di seluruh kumpulan data. Misalnya, sebuah kata yang dikodekan dengan bilangan bulat 3 berarti kata tersebut adalah kata ke-3 yang paling umum dalam kumpulan data."
      ],
      "metadata": {
        "id": "4rDJGRaHEG6o"
      }
    },
    {
      "cell_type": "markdown",
      "source": [
        "# IMPORT DATA\n",
        "\n"
      ],
      "metadata": {
        "id": "MGJSrooqBjXL"
      }
    },
    {
      "cell_type": "code",
      "execution_count": 1,
      "metadata": {
        "id": "p_y6xz7QDnk_",
        "colab": {
          "base_uri": "https://localhost:8080/"
        },
        "outputId": "bce23207-98e1-4891-c64d-65d82f0718a7"
      },
      "outputs": [
        {
          "output_type": "stream",
          "name": "stdout",
          "text": [
            "Downloading data from https://storage.googleapis.com/tensorflow/tf-keras-datasets/imdb.npz\n",
            "17464789/17464789 [==============================] - 0s 0us/step\n"
          ]
        }
      ],
      "source": [
        "from keras.datasets import imdb\n",
        "from keras.preprocessing import sequence\n",
        "import keras\n",
        "import tensorflow as tf\n",
        "import os\n",
        "import numpy as np\n",
        "\n",
        "VOCAB_SIZE = 88584\n",
        "\n",
        "MAXLEN = 250\n",
        "BATCH_SIZE = 64\n",
        "\n",
        "(train_data, train_labels), (test_data, test_labels) = imdb.load_data(num_words = VOCAB_SIZE)"
      ]
    },
    {
      "cell_type": "code",
      "source": [
        "len(train_data[1])"
      ],
      "metadata": {
        "colab": {
          "base_uri": "https://localhost:8080/"
        },
        "id": "sOpf1IxpD6t3",
        "outputId": "ead73ee6-f0e7-466e-9911-5dc522a22382"
      },
      "execution_count": 2,
      "outputs": [
        {
          "output_type": "execute_result",
          "data": {
            "text/plain": [
              "189"
            ]
          },
          "metadata": {},
          "execution_count": 2
        }
      ]
    },
    {
      "cell_type": "markdown",
      "source": [
        "# DATA PROCESSING"
      ],
      "metadata": {
        "id": "h14-8iHPCplA"
      }
    },
    {
      "cell_type": "code",
      "source": [
        "train_data=sequence.pad_sequences(train_data,MAXLEN)\n",
        "test_data=sequence.pad_sequences(test_data,MAXLEN)"
      ],
      "metadata": {
        "id": "QfltKs9LESQn"
      },
      "execution_count": 3,
      "outputs": []
    },
    {
      "cell_type": "code",
      "source": [
        "len(train_data[1])"
      ],
      "metadata": {
        "colab": {
          "base_uri": "https://localhost:8080/"
        },
        "id": "0XJt77ZDEUGf",
        "outputId": "e64b1251-d20f-4744-ff58-713ff074a7c5"
      },
      "execution_count": 4,
      "outputs": [
        {
          "output_type": "execute_result",
          "data": {
            "text/plain": [
              "250"
            ]
          },
          "metadata": {},
          "execution_count": 4
        }
      ]
    },
    {
      "cell_type": "markdown",
      "source": [
        "# MEMBANGUN MODEL"
      ],
      "metadata": {
        "id": "fn3n0kw6C-6V"
      }
    },
    {
      "cell_type": "code",
      "source": [
        "model=tf.keras.Sequential([\n",
        "    tf.keras.layers.Embedding(VOCAB_SIZE,32),\n",
        "    tf.keras.layers.LSTM(32),\n",
        "    tf.keras.layers.Dense(1,activation='sigmoid')\n",
        "])"
      ],
      "metadata": {
        "id": "wCxxYF9NEXsm"
      },
      "execution_count": 5,
      "outputs": []
    },
    {
      "cell_type": "code",
      "source": [
        "model.summary()"
      ],
      "metadata": {
        "colab": {
          "base_uri": "https://localhost:8080/"
        },
        "id": "QmuNdTGjEYSv",
        "outputId": "f4698c24-edc4-4ba0-a034-7698f11dc55e"
      },
      "execution_count": 6,
      "outputs": [
        {
          "output_type": "stream",
          "name": "stdout",
          "text": [
            "Model: \"sequential\"\n",
            "_________________________________________________________________\n",
            " Layer (type)                Output Shape              Param #   \n",
            "=================================================================\n",
            " embedding (Embedding)       (None, None, 32)          2834688   \n",
            "                                                                 \n",
            " lstm (LSTM)                 (None, 32)                8320      \n",
            "                                                                 \n",
            " dense (Dense)               (None, 1)                 33        \n",
            "                                                                 \n",
            "=================================================================\n",
            "Total params: 2843041 (10.85 MB)\n",
            "Trainable params: 2843041 (10.85 MB)\n",
            "Non-trainable params: 0 (0.00 Byte)\n",
            "_________________________________________________________________\n"
          ]
        }
      ]
    },
    {
      "cell_type": "code",
      "source": [
        "model.compile(loss=\"binary_crossentropy\",optimizer=\"rmsprop\",metrics=['accuracy'])\n",
        "history=model.fit(train_data,train_labels,epochs=10,validation_split=0.2)"
      ],
      "metadata": {
        "colab": {
          "base_uri": "https://localhost:8080/"
        },
        "id": "iS1vvVWbEbVm",
        "outputId": "37b124be-bd0b-4ece-f0e2-e3e3551d3830"
      },
      "execution_count": 7,
      "outputs": [
        {
          "output_type": "stream",
          "name": "stdout",
          "text": [
            "Epoch 1/10\n",
            "625/625 [==============================] - 72s 112ms/step - loss: 0.4515 - accuracy: 0.7807 - val_loss: 0.3412 - val_accuracy: 0.8574\n",
            "Epoch 2/10\n",
            "625/625 [==============================] - 69s 111ms/step - loss: 0.2614 - accuracy: 0.8986 - val_loss: 0.3143 - val_accuracy: 0.8678\n",
            "Epoch 3/10\n",
            "625/625 [==============================] - 69s 111ms/step - loss: 0.2015 - accuracy: 0.9253 - val_loss: 0.3081 - val_accuracy: 0.8758\n",
            "Epoch 4/10\n",
            "625/625 [==============================] - 69s 111ms/step - loss: 0.1653 - accuracy: 0.9426 - val_loss: 0.3339 - val_accuracy: 0.8720\n",
            "Epoch 5/10\n",
            "625/625 [==============================] - 71s 113ms/step - loss: 0.1350 - accuracy: 0.9536 - val_loss: 0.3525 - val_accuracy: 0.8842\n",
            "Epoch 6/10\n",
            "625/625 [==============================] - 67s 108ms/step - loss: 0.1148 - accuracy: 0.9618 - val_loss: 0.3128 - val_accuracy: 0.8728\n",
            "Epoch 7/10\n",
            "625/625 [==============================] - 71s 113ms/step - loss: 0.0965 - accuracy: 0.9682 - val_loss: 0.5479 - val_accuracy: 0.8436\n",
            "Epoch 8/10\n",
            "625/625 [==============================] - 75s 120ms/step - loss: 0.0813 - accuracy: 0.9740 - val_loss: 0.3808 - val_accuracy: 0.8786\n",
            "Epoch 9/10\n",
            "625/625 [==============================] - 73s 117ms/step - loss: 0.0696 - accuracy: 0.9783 - val_loss: 0.4239 - val_accuracy: 0.8624\n",
            "Epoch 10/10\n",
            "625/625 [==============================] - 76s 122ms/step - loss: 0.0621 - accuracy: 0.9818 - val_loss: 0.4543 - val_accuracy: 0.8812\n"
          ]
        }
      ]
    },
    {
      "cell_type": "code",
      "source": [
        "#model.save(\"lstm_model\")\n",
        "#or\n",
        "model.save(\"lstm.h5\")"
      ],
      "metadata": {
        "colab": {
          "base_uri": "https://localhost:8080/"
        },
        "id": "z9reltSCEecu",
        "outputId": "92b8fc6c-625c-4835-d247-a421f7d40189"
      },
      "execution_count": 8,
      "outputs": [
        {
          "output_type": "stream",
          "name": "stderr",
          "text": [
            "/usr/local/lib/python3.10/dist-packages/keras/src/engine/training.py:3103: UserWarning: You are saving your model as an HDF5 file via `model.save()`. This file format is considered legacy. We recommend using instead the native Keras format, e.g. `model.save('my_model.keras')`.\n",
            "  saving_api.save_model(\n"
          ]
        }
      ]
    },
    {
      "cell_type": "code",
      "source": [
        "new_model = tf.keras.models.load_model('lstm.h5')"
      ],
      "metadata": {
        "id": "oX9DkHSzEhut"
      },
      "execution_count": 9,
      "outputs": []
    },
    {
      "cell_type": "markdown",
      "source": [
        "# EVALUASI"
      ],
      "metadata": {
        "id": "_guNDpcBDjo1"
      }
    },
    {
      "cell_type": "code",
      "source": [
        "results=new_model.evaluate(test_data,test_labels)\n",
        "print(results)"
      ],
      "metadata": {
        "colab": {
          "base_uri": "https://localhost:8080/"
        },
        "id": "P_8WVwElEjSv",
        "outputId": "4d286424-e719-4b52-aa32-2b142e1194f2"
      },
      "execution_count": 10,
      "outputs": [
        {
          "output_type": "stream",
          "name": "stdout",
          "text": [
            "782/782 [==============================] - 23s 29ms/step - loss: 0.5263 - accuracy: 0.8603\n",
            "[0.526312530040741, 0.8602799773216248]\n"
          ]
        }
      ]
    },
    {
      "cell_type": "code",
      "source": [
        "results=model.evaluate(test_data,test_labels)\n",
        "print(results)"
      ],
      "metadata": {
        "colab": {
          "base_uri": "https://localhost:8080/"
        },
        "id": "JZvxvSUNEl_m",
        "outputId": "4c143e52-82a0-4086-a40c-b6bf82ce4413"
      },
      "execution_count": 11,
      "outputs": [
        {
          "output_type": "stream",
          "name": "stdout",
          "text": [
            "782/782 [==============================] - 22s 28ms/step - loss: 0.5263 - accuracy: 0.8603\n",
            "[0.526312530040741, 0.8602799773216248]\n"
          ]
        }
      ]
    },
    {
      "cell_type": "markdown",
      "source": [
        "# MEMBUAT PREDIKSI"
      ],
      "metadata": {
        "id": "mlTUuJYgDHdO"
      }
    },
    {
      "cell_type": "code",
      "source": [
        "word_index=imdb.get_word_index()"
      ],
      "metadata": {
        "id": "lrX-bQrOEml1",
        "colab": {
          "base_uri": "https://localhost:8080/"
        },
        "outputId": "75a9e050-513f-46ad-f975-661bd30afbf4"
      },
      "execution_count": 12,
      "outputs": [
        {
          "output_type": "stream",
          "name": "stdout",
          "text": [
            "Downloading data from https://storage.googleapis.com/tensorflow/tf-keras-datasets/imdb_word_index.json\n",
            "1641221/1641221 [==============================] - 0s 0us/step\n"
          ]
        }
      ]
    },
    {
      "cell_type": "code",
      "source": [
        "for i in range(10):\n",
        "    print(list(word_index.keys())[i],':',list(word_index.values())[i])"
      ],
      "metadata": {
        "colab": {
          "base_uri": "https://localhost:8080/"
        },
        "id": "JS3ngj6QEonu",
        "outputId": "4d3e6a97-deec-4a27-8bea-cca11e05226f"
      },
      "execution_count": 13,
      "outputs": [
        {
          "output_type": "stream",
          "name": "stdout",
          "text": [
            "fawn : 34701\n",
            "tsukino : 52006\n",
            "nunnery : 52007\n",
            "sonja : 16816\n",
            "vani : 63951\n",
            "woods : 1408\n",
            "spiders : 16115\n",
            "hanging : 2345\n",
            "woody : 2289\n",
            "trawling : 52008\n"
          ]
        }
      ]
    },
    {
      "cell_type": "code",
      "source": [
        "def encode_text(text):\n",
        "    tokens=keras.preprocessing.text.text_to_word_sequence(text)\n",
        "    tokens=[word_index[word] if word in word_index else 0 for word in tokens]\n",
        "    return sequence.pad_sequences([tokens],MAXLEN)[0]"
      ],
      "metadata": {
        "id": "V60__hfLEqMu"
      },
      "execution_count": 14,
      "outputs": []
    },
    {
      "cell_type": "code",
      "source": [
        "text=\"that movie was good\"\n",
        "encoded=encode_text(text)\n",
        "print(encoded)"
      ],
      "metadata": {
        "colab": {
          "base_uri": "https://localhost:8080/"
        },
        "id": "3Ph4bfXTEsFu",
        "outputId": "63dab062-07a9-418c-8def-46706d97504a"
      },
      "execution_count": 15,
      "outputs": [
        {
          "output_type": "stream",
          "name": "stdout",
          "text": [
            "[ 0  0  0  0  0  0  0  0  0  0  0  0  0  0  0  0  0  0  0  0  0  0  0  0\n",
            "  0  0  0  0  0  0  0  0  0  0  0  0  0  0  0  0  0  0  0  0  0  0  0  0\n",
            "  0  0  0  0  0  0  0  0  0  0  0  0  0  0  0  0  0  0  0  0  0  0  0  0\n",
            "  0  0  0  0  0  0  0  0  0  0  0  0  0  0  0  0  0  0  0  0  0  0  0  0\n",
            "  0  0  0  0  0  0  0  0  0  0  0  0  0  0  0  0  0  0  0  0  0  0  0  0\n",
            "  0  0  0  0  0  0  0  0  0  0  0  0  0  0  0  0  0  0  0  0  0  0  0  0\n",
            "  0  0  0  0  0  0  0  0  0  0  0  0  0  0  0  0  0  0  0  0  0  0  0  0\n",
            "  0  0  0  0  0  0  0  0  0  0  0  0  0  0  0  0  0  0  0  0  0  0  0  0\n",
            "  0  0  0  0  0  0  0  0  0  0  0  0  0  0  0  0  0  0  0  0  0  0  0  0\n",
            "  0  0  0  0  0  0  0  0  0  0  0  0  0  0  0  0  0  0  0  0  0  0  0  0\n",
            "  0  0  0  0  0  0 12 17 13 49]\n"
          ]
        }
      ]
    },
    {
      "cell_type": "code",
      "source": [
        "# Decode function that converts itegers to text\n",
        "\n",
        "reverse_word_index={value:key for (key,value) in word_index.items()}\n",
        "\n",
        "def decode_integers(integers):\n",
        "    PAD=0\n",
        "    text=\"\"\n",
        "    for num in integers:\n",
        "        if num!=PAD:\n",
        "            text+=reverse_word_index[num] +\" \"\n",
        "\n",
        "    return text[:-1]\n",
        "\n",
        "print(decode_integers(encoded))"
      ],
      "metadata": {
        "colab": {
          "base_uri": "https://localhost:8080/"
        },
        "id": "TalNanf-Et2n",
        "outputId": "7037847a-bfeb-48c8-b823-b800cb21360d"
      },
      "execution_count": 16,
      "outputs": [
        {
          "output_type": "stream",
          "name": "stdout",
          "text": [
            "that movie was good\n"
          ]
        }
      ]
    },
    {
      "cell_type": "code",
      "source": [
        "def predict(text):\n",
        "    encoded_text=encode_text(text)\n",
        "    pred=encoded_text.reshape(1,250) #converting vector to 2d\n",
        "    result=model.predict(pred)\n",
        "    print(result[0])"
      ],
      "metadata": {
        "id": "9BCtHbPYEyR-"
      },
      "execution_count": 17,
      "outputs": []
    },
    {
      "cell_type": "code",
      "source": [
        "positive_review=\"That was a good movie, i will definitely watch it again\"\n",
        "predict(positive_review)\n",
        "\n",
        "negative_review=\"Don't waste your time watching this movie, so disappointing\"\n",
        "predict(negative_review)"
      ],
      "metadata": {
        "colab": {
          "base_uri": "https://localhost:8080/"
        },
        "id": "vYsAwx4CQfH9",
        "outputId": "bba8b9c7-3f5e-4352-ff42-e580ae03a0d8"
      },
      "execution_count": 18,
      "outputs": [
        {
          "output_type": "stream",
          "name": "stdout",
          "text": [
            "1/1 [==============================] - 1s 936ms/step\n",
            "[0.95828027]\n",
            "1/1 [==============================] - 0s 41ms/step\n",
            "[0.37579876]\n"
          ]
        }
      ]
    }
  ]
}